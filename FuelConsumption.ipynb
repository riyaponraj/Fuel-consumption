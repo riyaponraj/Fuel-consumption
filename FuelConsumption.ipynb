{
  "cells": [
    {
      "cell_type": "markdown",
      "metadata": {
        "id": "view-in-github",
        "colab_type": "text"
      },
      "source": [
        "<a href=\"https://colab.research.google.com/github/riyaponraj/Fuel-consumption/blob/main/FuelConsumption.ipynb\" target=\"_parent\"><img src=\"https://colab.research.google.com/assets/colab-badge.svg\" alt=\"Open In Colab\"/></a>"
      ]
    },
    {
      "cell_type": "markdown",
      "source": [
        "Import the required libraries"
      ],
      "metadata": {
        "id": "46YZMli4ih2m"
      },
      "id": "46YZMli4ih2m"
    },
    {
      "cell_type": "code",
      "execution_count": null,
      "id": "8eb33d26",
      "metadata": {
        "id": "8eb33d26"
      },
      "outputs": [],
      "source": [
        "import matplotlib.pyplot as plt\n",
        "import pandas as pd\n",
        "import pylab as pl\n",
        "import numpy as np\n",
        "%matplotlib inline"
      ]
    },
    {
      "cell_type": "code",
      "execution_count": null,
      "id": "98f2c113",
      "metadata": {
        "id": "98f2c113",
        "outputId": "3df0dcb3-3e28-4f31-f189-d2801f003cae"
      },
      "outputs": [
        {
          "data": {
            "text/html": [
              "<div>\n",
              "<style scoped>\n",
              "    .dataframe tbody tr th:only-of-type {\n",
              "        vertical-align: middle;\n",
              "    }\n",
              "\n",
              "    .dataframe tbody tr th {\n",
              "        vertical-align: top;\n",
              "    }\n",
              "\n",
              "    .dataframe thead th {\n",
              "        text-align: right;\n",
              "    }\n",
              "</style>\n",
              "<table border=\"1\" class=\"dataframe\">\n",
              "  <thead>\n",
              "    <tr style=\"text-align: right;\">\n",
              "      <th></th>\n",
              "      <th>MODELYEAR</th>\n",
              "      <th>MAKE</th>\n",
              "      <th>MODEL</th>\n",
              "      <th>VEHICLECLASS</th>\n",
              "      <th>ENGINESIZE</th>\n",
              "      <th>CYLINDERS</th>\n",
              "      <th>TRANSMISSION</th>\n",
              "      <th>FUELTYPE</th>\n",
              "      <th>FUELCONSUMPTION_CITY</th>\n",
              "      <th>FUELCONSUMPTION_HWY</th>\n",
              "      <th>FUELCONSUMPTION_COMB</th>\n",
              "      <th>FUELCONSUMPTION_COMB_MPG</th>\n",
              "      <th>CO2EMISSIONS</th>\n",
              "    </tr>\n",
              "  </thead>\n",
              "  <tbody>\n",
              "    <tr>\n",
              "      <th>0</th>\n",
              "      <td>2014</td>\n",
              "      <td>ACURA</td>\n",
              "      <td>ILX</td>\n",
              "      <td>COMPACT</td>\n",
              "      <td>2.0</td>\n",
              "      <td>4</td>\n",
              "      <td>AS5</td>\n",
              "      <td>Z</td>\n",
              "      <td>9.9</td>\n",
              "      <td>6.7</td>\n",
              "      <td>8.5</td>\n",
              "      <td>33</td>\n",
              "      <td>196</td>\n",
              "    </tr>\n",
              "    <tr>\n",
              "      <th>1</th>\n",
              "      <td>2014</td>\n",
              "      <td>ACURA</td>\n",
              "      <td>ILX</td>\n",
              "      <td>COMPACT</td>\n",
              "      <td>2.4</td>\n",
              "      <td>4</td>\n",
              "      <td>M6</td>\n",
              "      <td>Z</td>\n",
              "      <td>11.2</td>\n",
              "      <td>7.7</td>\n",
              "      <td>9.6</td>\n",
              "      <td>29</td>\n",
              "      <td>221</td>\n",
              "    </tr>\n",
              "    <tr>\n",
              "      <th>2</th>\n",
              "      <td>2014</td>\n",
              "      <td>ACURA</td>\n",
              "      <td>ILX HYBRID</td>\n",
              "      <td>COMPACT</td>\n",
              "      <td>1.5</td>\n",
              "      <td>4</td>\n",
              "      <td>AV7</td>\n",
              "      <td>Z</td>\n",
              "      <td>6.0</td>\n",
              "      <td>5.8</td>\n",
              "      <td>5.9</td>\n",
              "      <td>48</td>\n",
              "      <td>136</td>\n",
              "    </tr>\n",
              "    <tr>\n",
              "      <th>3</th>\n",
              "      <td>2014</td>\n",
              "      <td>ACURA</td>\n",
              "      <td>MDX 4WD</td>\n",
              "      <td>SUV - SMALL</td>\n",
              "      <td>3.5</td>\n",
              "      <td>6</td>\n",
              "      <td>AS6</td>\n",
              "      <td>Z</td>\n",
              "      <td>12.7</td>\n",
              "      <td>9.1</td>\n",
              "      <td>11.1</td>\n",
              "      <td>25</td>\n",
              "      <td>255</td>\n",
              "    </tr>\n",
              "    <tr>\n",
              "      <th>4</th>\n",
              "      <td>2014</td>\n",
              "      <td>ACURA</td>\n",
              "      <td>RDX AWD</td>\n",
              "      <td>SUV - SMALL</td>\n",
              "      <td>3.5</td>\n",
              "      <td>6</td>\n",
              "      <td>AS6</td>\n",
              "      <td>Z</td>\n",
              "      <td>12.1</td>\n",
              "      <td>8.7</td>\n",
              "      <td>10.6</td>\n",
              "      <td>27</td>\n",
              "      <td>244</td>\n",
              "    </tr>\n",
              "  </tbody>\n",
              "</table>\n",
              "</div>"
            ],
            "text/plain": [
              "   MODELYEAR   MAKE       MODEL VEHICLECLASS  ENGINESIZE  CYLINDERS  \\\n",
              "0       2014  ACURA         ILX      COMPACT         2.0          4   \n",
              "1       2014  ACURA         ILX      COMPACT         2.4          4   \n",
              "2       2014  ACURA  ILX HYBRID      COMPACT         1.5          4   \n",
              "3       2014  ACURA     MDX 4WD  SUV - SMALL         3.5          6   \n",
              "4       2014  ACURA     RDX AWD  SUV - SMALL         3.5          6   \n",
              "\n",
              "  TRANSMISSION FUELTYPE  FUELCONSUMPTION_CITY  FUELCONSUMPTION_HWY  \\\n",
              "0          AS5        Z                   9.9                  6.7   \n",
              "1           M6        Z                  11.2                  7.7   \n",
              "2          AV7        Z                   6.0                  5.8   \n",
              "3          AS6        Z                  12.7                  9.1   \n",
              "4          AS6        Z                  12.1                  8.7   \n",
              "\n",
              "   FUELCONSUMPTION_COMB  FUELCONSUMPTION_COMB_MPG  CO2EMISSIONS  \n",
              "0                   8.5                        33           196  \n",
              "1                   9.6                        29           221  \n",
              "2                   5.9                        48           136  \n",
              "3                  11.1                        25           255  \n",
              "4                  10.6                        27           244  "
            ]
          },
          "execution_count": 4,
          "metadata": {},
          "output_type": "execute_result"
        }
      ],
      "source": [
        "d=pd.read_csv(\"C:/Users/riya/Desktop/ML/DATASET/fuelconsumption.csv\")\n",
        "d.head()"
      ]
    },
    {
      "cell_type": "code",
      "execution_count": null,
      "id": "6794e8a0",
      "metadata": {
        "id": "6794e8a0",
        "outputId": "0ce0da9f-7c99-4cac-a318-68314abba6b7"
      },
      "outputs": [
        {
          "data": {
            "text/html": [
              "<div>\n",
              "<style scoped>\n",
              "    .dataframe tbody tr th:only-of-type {\n",
              "        vertical-align: middle;\n",
              "    }\n",
              "\n",
              "    .dataframe tbody tr th {\n",
              "        vertical-align: top;\n",
              "    }\n",
              "\n",
              "    .dataframe thead th {\n",
              "        text-align: right;\n",
              "    }\n",
              "</style>\n",
              "<table border=\"1\" class=\"dataframe\">\n",
              "  <thead>\n",
              "    <tr style=\"text-align: right;\">\n",
              "      <th></th>\n",
              "      <th>MODELYEAR</th>\n",
              "      <th>ENGINESIZE</th>\n",
              "      <th>CYLINDERS</th>\n",
              "      <th>FUELCONSUMPTION_CITY</th>\n",
              "      <th>FUELCONSUMPTION_HWY</th>\n",
              "      <th>FUELCONSUMPTION_COMB</th>\n",
              "      <th>FUELCONSUMPTION_COMB_MPG</th>\n",
              "      <th>CO2EMISSIONS</th>\n",
              "    </tr>\n",
              "  </thead>\n",
              "  <tbody>\n",
              "    <tr>\n",
              "      <th>count</th>\n",
              "      <td>1067.0</td>\n",
              "      <td>1067.000000</td>\n",
              "      <td>1067.000000</td>\n",
              "      <td>1067.000000</td>\n",
              "      <td>1067.000000</td>\n",
              "      <td>1067.000000</td>\n",
              "      <td>1067.000000</td>\n",
              "      <td>1067.000000</td>\n",
              "    </tr>\n",
              "    <tr>\n",
              "      <th>mean</th>\n",
              "      <td>2014.0</td>\n",
              "      <td>3.346298</td>\n",
              "      <td>5.794752</td>\n",
              "      <td>13.296532</td>\n",
              "      <td>9.474602</td>\n",
              "      <td>11.580881</td>\n",
              "      <td>26.441425</td>\n",
              "      <td>256.228679</td>\n",
              "    </tr>\n",
              "    <tr>\n",
              "      <th>std</th>\n",
              "      <td>0.0</td>\n",
              "      <td>1.415895</td>\n",
              "      <td>1.797447</td>\n",
              "      <td>4.101253</td>\n",
              "      <td>2.794510</td>\n",
              "      <td>3.485595</td>\n",
              "      <td>7.468702</td>\n",
              "      <td>63.372304</td>\n",
              "    </tr>\n",
              "    <tr>\n",
              "      <th>min</th>\n",
              "      <td>2014.0</td>\n",
              "      <td>1.000000</td>\n",
              "      <td>3.000000</td>\n",
              "      <td>4.600000</td>\n",
              "      <td>4.900000</td>\n",
              "      <td>4.700000</td>\n",
              "      <td>11.000000</td>\n",
              "      <td>108.000000</td>\n",
              "    </tr>\n",
              "    <tr>\n",
              "      <th>25%</th>\n",
              "      <td>2014.0</td>\n",
              "      <td>2.000000</td>\n",
              "      <td>4.000000</td>\n",
              "      <td>10.250000</td>\n",
              "      <td>7.500000</td>\n",
              "      <td>9.000000</td>\n",
              "      <td>21.000000</td>\n",
              "      <td>207.000000</td>\n",
              "    </tr>\n",
              "    <tr>\n",
              "      <th>50%</th>\n",
              "      <td>2014.0</td>\n",
              "      <td>3.400000</td>\n",
              "      <td>6.000000</td>\n",
              "      <td>12.600000</td>\n",
              "      <td>8.800000</td>\n",
              "      <td>10.900000</td>\n",
              "      <td>26.000000</td>\n",
              "      <td>251.000000</td>\n",
              "    </tr>\n",
              "    <tr>\n",
              "      <th>75%</th>\n",
              "      <td>2014.0</td>\n",
              "      <td>4.300000</td>\n",
              "      <td>8.000000</td>\n",
              "      <td>15.550000</td>\n",
              "      <td>10.850000</td>\n",
              "      <td>13.350000</td>\n",
              "      <td>31.000000</td>\n",
              "      <td>294.000000</td>\n",
              "    </tr>\n",
              "    <tr>\n",
              "      <th>max</th>\n",
              "      <td>2014.0</td>\n",
              "      <td>8.400000</td>\n",
              "      <td>12.000000</td>\n",
              "      <td>30.200000</td>\n",
              "      <td>20.500000</td>\n",
              "      <td>25.800000</td>\n",
              "      <td>60.000000</td>\n",
              "      <td>488.000000</td>\n",
              "    </tr>\n",
              "  </tbody>\n",
              "</table>\n",
              "</div>"
            ],
            "text/plain": [
              "       MODELYEAR   ENGINESIZE    CYLINDERS  FUELCONSUMPTION_CITY  \\\n",
              "count     1067.0  1067.000000  1067.000000           1067.000000   \n",
              "mean      2014.0     3.346298     5.794752             13.296532   \n",
              "std          0.0     1.415895     1.797447              4.101253   \n",
              "min       2014.0     1.000000     3.000000              4.600000   \n",
              "25%       2014.0     2.000000     4.000000             10.250000   \n",
              "50%       2014.0     3.400000     6.000000             12.600000   \n",
              "75%       2014.0     4.300000     8.000000             15.550000   \n",
              "max       2014.0     8.400000    12.000000             30.200000   \n",
              "\n",
              "       FUELCONSUMPTION_HWY  FUELCONSUMPTION_COMB  FUELCONSUMPTION_COMB_MPG  \\\n",
              "count          1067.000000           1067.000000               1067.000000   \n",
              "mean              9.474602             11.580881                 26.441425   \n",
              "std               2.794510              3.485595                  7.468702   \n",
              "min               4.900000              4.700000                 11.000000   \n",
              "25%               7.500000              9.000000                 21.000000   \n",
              "50%               8.800000             10.900000                 26.000000   \n",
              "75%              10.850000             13.350000                 31.000000   \n",
              "max              20.500000             25.800000                 60.000000   \n",
              "\n",
              "       CO2EMISSIONS  \n",
              "count   1067.000000  \n",
              "mean     256.228679  \n",
              "std       63.372304  \n",
              "min      108.000000  \n",
              "25%      207.000000  \n",
              "50%      251.000000  \n",
              "75%      294.000000  \n",
              "max      488.000000  "
            ]
          },
          "execution_count": 6,
          "metadata": {},
          "output_type": "execute_result"
        }
      ],
      "source": [
        "d.describe()"
      ]
    },
    {
      "cell_type": "code",
      "execution_count": null,
      "id": "52c0bb9b",
      "metadata": {
        "id": "52c0bb9b",
        "outputId": "c5d06f98-dcd9-493e-c100-e34fa1781a53"
      },
      "outputs": [
        {
          "data": {
            "text/html": [
              "<div>\n",
              "<style scoped>\n",
              "    .dataframe tbody tr th:only-of-type {\n",
              "        vertical-align: middle;\n",
              "    }\n",
              "\n",
              "    .dataframe tbody tr th {\n",
              "        vertical-align: top;\n",
              "    }\n",
              "\n",
              "    .dataframe thead th {\n",
              "        text-align: right;\n",
              "    }\n",
              "</style>\n",
              "<table border=\"1\" class=\"dataframe\">\n",
              "  <thead>\n",
              "    <tr style=\"text-align: right;\">\n",
              "      <th></th>\n",
              "      <th>ENGINESIZE</th>\n",
              "      <th>CYLINDERS</th>\n",
              "      <th>FUELCONSUMPTION_COMB</th>\n",
              "      <th>FUELCONSUMPTION_CITY</th>\n",
              "      <th>FUELCONSUMPTION_HWY</th>\n",
              "      <th>CO2EMISSIONS</th>\n",
              "    </tr>\n",
              "  </thead>\n",
              "  <tbody>\n",
              "    <tr>\n",
              "      <th>0</th>\n",
              "      <td>2.0</td>\n",
              "      <td>4</td>\n",
              "      <td>8.5</td>\n",
              "      <td>9.9</td>\n",
              "      <td>6.7</td>\n",
              "      <td>196</td>\n",
              "    </tr>\n",
              "    <tr>\n",
              "      <th>1</th>\n",
              "      <td>2.4</td>\n",
              "      <td>4</td>\n",
              "      <td>9.6</td>\n",
              "      <td>11.2</td>\n",
              "      <td>7.7</td>\n",
              "      <td>221</td>\n",
              "    </tr>\n",
              "    <tr>\n",
              "      <th>2</th>\n",
              "      <td>1.5</td>\n",
              "      <td>4</td>\n",
              "      <td>5.9</td>\n",
              "      <td>6.0</td>\n",
              "      <td>5.8</td>\n",
              "      <td>136</td>\n",
              "    </tr>\n",
              "    <tr>\n",
              "      <th>3</th>\n",
              "      <td>3.5</td>\n",
              "      <td>6</td>\n",
              "      <td>11.1</td>\n",
              "      <td>12.7</td>\n",
              "      <td>9.1</td>\n",
              "      <td>255</td>\n",
              "    </tr>\n",
              "    <tr>\n",
              "      <th>4</th>\n",
              "      <td>3.5</td>\n",
              "      <td>6</td>\n",
              "      <td>10.6</td>\n",
              "      <td>12.1</td>\n",
              "      <td>8.7</td>\n",
              "      <td>244</td>\n",
              "    </tr>\n",
              "    <tr>\n",
              "      <th>5</th>\n",
              "      <td>3.5</td>\n",
              "      <td>6</td>\n",
              "      <td>10.0</td>\n",
              "      <td>11.9</td>\n",
              "      <td>7.7</td>\n",
              "      <td>230</td>\n",
              "    </tr>\n",
              "    <tr>\n",
              "      <th>6</th>\n",
              "      <td>3.5</td>\n",
              "      <td>6</td>\n",
              "      <td>10.1</td>\n",
              "      <td>11.8</td>\n",
              "      <td>8.1</td>\n",
              "      <td>232</td>\n",
              "    </tr>\n",
              "    <tr>\n",
              "      <th>7</th>\n",
              "      <td>3.7</td>\n",
              "      <td>6</td>\n",
              "      <td>11.1</td>\n",
              "      <td>12.8</td>\n",
              "      <td>9.0</td>\n",
              "      <td>255</td>\n",
              "    </tr>\n",
              "    <tr>\n",
              "      <th>8</th>\n",
              "      <td>3.7</td>\n",
              "      <td>6</td>\n",
              "      <td>11.6</td>\n",
              "      <td>13.4</td>\n",
              "      <td>9.5</td>\n",
              "      <td>267</td>\n",
              "    </tr>\n",
              "  </tbody>\n",
              "</table>\n",
              "</div>"
            ],
            "text/plain": [
              "   ENGINESIZE  CYLINDERS  FUELCONSUMPTION_COMB  FUELCONSUMPTION_CITY  \\\n",
              "0         2.0          4                   8.5                   9.9   \n",
              "1         2.4          4                   9.6                  11.2   \n",
              "2         1.5          4                   5.9                   6.0   \n",
              "3         3.5          6                  11.1                  12.7   \n",
              "4         3.5          6                  10.6                  12.1   \n",
              "5         3.5          6                  10.0                  11.9   \n",
              "6         3.5          6                  10.1                  11.8   \n",
              "7         3.7          6                  11.1                  12.8   \n",
              "8         3.7          6                  11.6                  13.4   \n",
              "\n",
              "   FUELCONSUMPTION_HWY  CO2EMISSIONS  \n",
              "0                  6.7           196  \n",
              "1                  7.7           221  \n",
              "2                  5.8           136  \n",
              "3                  9.1           255  \n",
              "4                  8.7           244  \n",
              "5                  7.7           230  \n",
              "6                  8.1           232  \n",
              "7                  9.0           255  \n",
              "8                  9.5           267  "
            ]
          },
          "execution_count": 7,
          "metadata": {},
          "output_type": "execute_result"
        }
      ],
      "source": [
        "cdf=d[[\"ENGINESIZE\",'CYLINDERS','FUELCONSUMPTION_COMB','FUELCONSUMPTION_CITY','FUELCONSUMPTION_HWY','CO2EMISSIONS']]\n",
        "cdf.head(9)"
      ]
    },
    {
      "cell_type": "markdown",
      "source": [
        "visualizing the individual features"
      ],
      "metadata": {
        "id": "AV13RkUkiffX"
      },
      "id": "AV13RkUkiffX"
    },
    {
      "cell_type": "code",
      "execution_count": null,
      "id": "1b9748a0",
      "metadata": {
        "id": "1b9748a0",
        "outputId": "6d9edba0-b37e-4163-e9e5-4e9b46c85062"
      },
      "outputs": [
        {
          "data": {
            "text/plain": [
              "array([[<AxesSubplot:title={'center':'CYLINDERS'}>,\n",
              "        <AxesSubplot:title={'center':'ENGINESIZE'}>],\n",
              "       [<AxesSubplot:title={'center':'FUELCONSUMPTION_COMB'}>,\n",
              "        <AxesSubplot:title={'center':'FUELCONSUMPTION_CITY'}>],\n",
              "       [<AxesSubplot:title={'center':'FUELCONSUMPTION_HWY'}>,\n",
              "        <AxesSubplot:title={'center':'CO2EMISSIONS'}>]], dtype=object)"
            ]
          },
          "execution_count": 8,
          "metadata": {},
          "output_type": "execute_result"
        },
        {
          "data": {
            "image/png": "[encoded data removed]",
            "text/plain": [
              "<Figure size 432x288 with 6 Axes>"
            ]
          },
          "metadata": {
            "needs_background": "light"
          },
          "output_type": "display_data"
        }
      ],
      "source": [
        "vi=cdf[['CYLINDERS','ENGINESIZE','FUELCONSUMPTION_COMB','FUELCONSUMPTION_CITY','FUELCONSUMPTION_HWY','CO2EMISSIONS']]\n",
        "vi.hist()\n"
      ]
    },
    {
      "cell_type": "code",
      "execution_count": null,
      "id": "74c85007",
      "metadata": {
        "id": "74c85007",
        "outputId": "56a61ab4-9dca-4cf2-9a5e-c9020610ff39"
      },
      "outputs": [
        {
          "data": {
            "text/plain": [
              "Text(0, 0.5, 'emission')"
            ]
          },
          "execution_count": 10,
          "metadata": {},
          "output_type": "execute_result"
        },
        {
          "data": {
            "image/png": "[encoded data removed]",
            "text/plain": [
              "<Figure size 432x288 with 1 Axes>"
            ]
          },
          "metadata": {
            "needs_background": "light"
          },
          "output_type": "display_data"
        }
      ],
      "source": [
        "plt.scatter(cdf.ENGINESIZE,cdf.CO2EMISSIONS,color=\"red\")\n",
        "plt.xlabel(\"engine size\")\n",
        "plt.ylabel(\"emission\")"
      ]
    },
    {
      "cell_type": "code",
      "execution_count": null,
      "id": "73142873",
      "metadata": {
        "id": "73142873",
        "outputId": "0ff2a659-fcfe-40eb-cddd-590b7c8826bb"
      },
      "outputs": [
        {
          "data": {
            "text/plain": [
              "Text(0, 0.5, 'emission')"
            ]
          },
          "execution_count": 11,
          "metadata": {},
          "output_type": "execute_result"
        },
        {
          "data": {
            "image/png": "[encoded data removed]",
            "text/plain": [
              "<Figure size 432x288 with 1 Axes>"
            ]
          },
          "metadata": {
            "needs_background": "light"
          },
          "output_type": "display_data"
        }
      ],
      "source": [
        "plt.scatter(cdf.CYLINDERS,cdf.CO2EMISSIONS,color=\"red\")\n",
        "plt.xlabel(\"No.of cylinders\")\n",
        "plt.ylabel(\"emission\")"
      ]
    },
    {
      "cell_type": "code",
      "execution_count": null,
      "id": "5218b66e",
      "metadata": {
        "id": "5218b66e"
      },
      "outputs": [],
      "source": [
        "msk=np.random.rand(len(d))<0.8\n",
        "train=cdf[msk]\n",
        "test=cdf[~msk]"
      ]
    },
    {
      "cell_type": "code",
      "execution_count": null,
      "id": "f2f9b32f",
      "metadata": {
        "id": "f2f9b32f",
        "outputId": "e0a143f4-daae-4f3b-b839-c203a0b6efe1"
      },
      "outputs": [
        {
          "data": {
            "text/plain": [
              "Text(0, 0.5, 'Emisisons')"
            ]
          },
          "execution_count": 13,
          "metadata": {},
          "output_type": "execute_result"
        },
        {
          "data": {
            "image/png": "[encoded data removed]",
            "text/plain": [
              "<Figure size 432x288 with 1 Axes>"
            ]
          },
          "metadata": {
            "needs_background": "light"
          },
          "output_type": "display_data"
        }
      ],
      "source": [
        "plt.scatter(train.ENGINESIZE,train.CO2EMISSIONS,color=\"indigo\")\n",
        "plt.xlabel(\"Engine size\")\n",
        "plt.ylabel(\"Emisisons\")"
      ]
    },
    {
      "cell_type": "code",
      "execution_count": null,
      "id": "c01d6279",
      "metadata": {
        "id": "c01d6279",
        "outputId": "c0516f00-1e55-4483-a1e0-eed10bebb0e1"
      },
      "outputs": [
        {
          "data": {
            "text/plain": [
              "Text(0, 0.5, 'Emisisons')"
            ]
          },
          "execution_count": 14,
          "metadata": {},
          "output_type": "execute_result"
        },
        {
          "data": {
            "image/png": "[encoded data removed]",
            "text/plain": [
              "<Figure size 432x288 with 1 Axes>"
            ]
          },
          "metadata": {
            "needs_background": "light"
          },
          "output_type": "display_data"
        }
      ],
      "source": [
        "plt.scatter(test.ENGINESIZE,test.CO2EMISSIONS,color=\"indigo\")\n",
        "plt.xlabel(\"Engine size\")\n",
        "plt.ylabel(\"Emisisons\")"
      ]
    },
    {
      "cell_type": "markdown",
      "id": "98f125e6",
      "metadata": {
        "id": "98f125e6"
      },
      "source": [
        "# Linear Regression Model"
      ]
    },
    {
      "cell_type": "code",
      "execution_count": null,
      "id": "41c644a0",
      "metadata": {
        "id": "41c644a0",
        "outputId": "eca6384b-5d4a-4fab-aaec-73e81fe2356c"
      },
      "outputs": [
        {
          "data": {
            "text/plain": [
              "LinearRegression()"
            ]
          },
          "execution_count": 15,
          "metadata": {},
          "output_type": "execute_result"
        }
      ],
      "source": [
        "from sklearn import linear_model\n",
        "reg=linear_model.LinearRegression()\n",
        "train_x=np.asanyarray(train[['ENGINESIZE']])\n",
        "train_y=np.asanyarray(train[[\"CO2EMISSIONS\"]])\n",
        "reg.fit(train_x,train_y)"
      ]
    },
    {
      "cell_type": "code",
      "execution_count": null,
      "id": "755a69c9",
      "metadata": {
        "id": "755a69c9",
        "outputId": "acbc1781-41a7-41c3-b5e0-57604dec2364"
      },
      "outputs": [
        {
          "name": "stdout",
          "output_type": "stream",
          "text": [
            "Coefficients: [[38.72672597]]\n",
            "Intercepts: [127.02763159]\n"
          ]
        }
      ],
      "source": [
        "print('Coefficients:',reg.coef_)\n",
        "print('Intercepts:',reg.intercept_)"
      ]
    },
    {
      "cell_type": "code",
      "execution_count": null,
      "id": "d3349e1c",
      "metadata": {
        "id": "d3349e1c",
        "outputId": "a9022cb5-e8dc-4522-fb29-2ab8d86ebd92"
      },
      "outputs": [
        {
          "data": {
            "text/plain": [
              "Text(0, 0.5, 'CO2 emission')"
            ]
          },
          "execution_count": 17,
          "metadata": {},
          "output_type": "execute_result"
        },
        {
          "data": {
            "image/png": "[encoded data removed]",
            "text/plain": [
              "<Figure size 432x288 with 1 Axes>"
            ]
          },
          "metadata": {
            "needs_background": "light"
          },
          "output_type": "display_data"
        }
      ],
      "source": [
        "plt.scatter(train.ENGINESIZE,train.CO2EMISSIONS,color=\"grey\")\n",
        "plt.plot(train_x,reg.coef_*train_x+reg.intercept_,'black')\n",
        "plt.xlabel(\"Engine size\")\n",
        "plt.ylabel('CO2 emission')"
      ]
    },
    {
      "cell_type": "code",
      "execution_count": null,
      "id": "a42cf5dc",
      "metadata": {
        "id": "a42cf5dc",
        "outputId": "b57d554b-3869-4e6d-d932-da678c800083"
      },
      "outputs": [
        {
          "name": "stdout",
          "output_type": "stream",
          "text": [
            "Mean absolute error: 23.32\n",
            "Residual sum of squares (MSE): 948.40\n",
            "R2-score: 0.78\n"
          ]
        }
      ],
      "source": [
        "from sklearn.metrics import r2_score\n",
        "\n",
        "test_x = np.asanyarray(test[['ENGINESIZE']])\n",
        "test_y = np.asanyarray(test[['CO2EMISSIONS']])\n",
        "test_y_ = reg.predict(test_x)\n",
        "print(\"Mean absolute error: %.2f\" % np.mean(np.absolute(test_y_ - test_y)))\n",
        "print(\"Residual sum of squares (MSE): %.2f\" % np.mean((test_y_ - test_y) ** 2))\n",
        "print(\"R2-score: %.2f\" % r2_score(test_y , test_y_) )"
      ]
    },
    {
      "cell_type": "code",
      "execution_count": null,
      "id": "471b70dc",
      "metadata": {
        "id": "471b70dc",
        "outputId": "9c9f5138-23a3-4859-982f-c6e001e8aeb1"
      },
      "outputs": [
        {
          "name": "stdout",
          "output_type": "stream",
          "text": [
            "Residual sum of squares: 948.40\n",
            "Variance score: 0.78\n"
          ]
        }
      ],
      "source": [
        "y_hat=reg.predict(test[['ENGINESIZE']])\n",
        "X=np.asanyarray(test[['ENGINESIZE']])\n",
        "Y=np.asanyarray(test[['CO2EMISSIONS']])\n",
        "print(\"Residual sum of squares: %.2f\"\n",
        "      % np.mean((y_hat - Y) ** 2))\n",
        "\n",
        "# Explained variance score: 1 is perfect prediction\n",
        "print('Variance score: %.2f' % reg.score(X, Y))"
      ]
    },
    {
      "cell_type": "code",
      "execution_count": null,
      "id": "8238ca5d",
      "metadata": {
        "id": "8238ca5d",
        "outputId": "c59e7e92-dd3d-4f91-cf28-d635c39908a8"
      },
      "outputs": [
        {
          "data": {
            "text/plain": [
              "array([[203.4549808]])"
            ]
          },
          "execution_count": 16,
          "metadata": {},
          "output_type": "execute_result"
        }
      ],
      "source": [
        "reg.predict([[2.0]])"
      ]
    },
    {
      "cell_type": "code",
      "execution_count": null,
      "id": "06862da0",
      "metadata": {
        "id": "06862da0",
        "outputId": "9293588a-f2ad-4847-8123-0e0c10d46891"
      },
      "outputs": [
        {
          "data": {
            "text/plain": [
              "0.7650221282087624"
            ]
          },
          "execution_count": 17,
          "metadata": {},
          "output_type": "execute_result"
        }
      ],
      "source": [
        "reg.score(train_x,train_y)"
      ]
    },
    {
      "cell_type": "code",
      "execution_count": null,
      "id": "17774af8",
      "metadata": {
        "id": "17774af8"
      },
      "outputs": [],
      "source": [
        "import pickle"
      ]
    },
    {
      "cell_type": "code",
      "execution_count": null,
      "id": "d8b1abb3",
      "metadata": {
        "id": "d8b1abb3"
      },
      "outputs": [],
      "source": [
        "with open('fuel','wb') as file:\n",
        "    pickle.dump(reg,file)"
      ]
    },
    {
      "cell_type": "code",
      "execution_count": null,
      "id": "46207c02",
      "metadata": {
        "id": "46207c02"
      },
      "outputs": [],
      "source": [
        "with open('fuel','rb') as file:\n",
        "    reg = pickle.load(file)"
      ]
    },
    {
      "cell_type": "markdown",
      "id": "8575d637",
      "metadata": {
        "id": "8575d637"
      },
      "source": [
        "# Multiple Regression Model NO:1"
      ]
    },
    {
      "cell_type": "code",
      "execution_count": null,
      "id": "5fb289e0",
      "metadata": {
        "id": "5fb289e0",
        "outputId": "5aef8d22-d773-4f62-8856-e1508c013b26"
      },
      "outputs": [
        {
          "name": "stdout",
          "output_type": "stream",
          "text": [
            "Coefficients: [[11.94336558  7.22583411  9.05817952]]\n",
            "Intercept: [69.03822095]\n"
          ]
        }
      ],
      "source": [
        "from sklearn import linear_model\n",
        "regm=linear_model.LinearRegression()\n",
        "x=np.asanyarray(train[['ENGINESIZE','CYLINDERS','FUELCONSUMPTION_COMB']])\n",
        "y=np.asanyarray(train[['CO2EMISSIONS']])\n",
        "regm.fit(x,y)\n",
        "print(\"Coefficients:\",regm.coef_)\n",
        "print(\"Intercept:\",regm.intercept_)"
      ]
    },
    {
      "cell_type": "code",
      "execution_count": null,
      "id": "5fb3258d",
      "metadata": {
        "id": "5fb3258d",
        "outputId": "e1500462-fc4f-4606-edd0-421a8d135300"
      },
      "outputs": [
        {
          "name": "stdout",
          "output_type": "stream",
          "text": [
            "Residual sum of squares: 571.53\n",
            "Variance score: 0.86\n"
          ]
        }
      ],
      "source": [
        "y_hat= regm.predict(test[['ENGINESIZE','CYLINDERS','FUELCONSUMPTION_COMB']])\n",
        "x = np.asanyarray(test[['ENGINESIZE','CYLINDERS','FUELCONSUMPTION_COMB']])\n",
        "y = np.asanyarray(test[['CO2EMISSIONS']])\n",
        "print(\"Residual sum of squares: %.2f\" % np.mean((y_hat - y) ** 2))\n",
        "\n",
        "\n",
        "print('Variance score: %.2f' % regm.score(x, y))"
      ]
    },
    {
      "cell_type": "markdown",
      "id": "7865f6e0",
      "metadata": {
        "id": "7865f6e0"
      },
      "source": [
        "# Multiple Regression Model NO:2"
      ]
    },
    {
      "cell_type": "code",
      "execution_count": null,
      "id": "2f8cabc4",
      "metadata": {
        "id": "2f8cabc4",
        "outputId": "58ec3ae1-d356-4bcf-942b-a56d03c2644e"
      },
      "outputs": [
        {
          "name": "stdout",
          "output_type": "stream",
          "text": [
            "Coefficients: [[11.17183224  7.0033832   6.25503698  2.70397341]]\n",
            "Intercept: [69.07955996]\n",
            "Residual sum of squares: 570.25\n",
            "Variance score: 0.87\n"
          ]
        }
      ],
      "source": [
        "'''from sklearn import linear_model\n",
        "regm=linear_model.LinearRegression()'''\n",
        "x=np.asanyarray(train[['ENGINESIZE','CYLINDERS','FUELCONSUMPTION_CITY','FUELCONSUMPTION_HWY']])\n",
        "\n",
        "y=np.asanyarray(train[['CO2EMISSIONS']])\n",
        "regm.fit(x,y)\n",
        "print(\"Coefficients:\",regm.coef_)\n",
        "print(\"Intercept:\",regm.intercept_)\n",
        "y_= regm.predict(test[['ENGINESIZE','CYLINDERS','FUELCONSUMPTION_CITY','FUELCONSUMPTION_HWY']])\n",
        "x = np.asanyarray(test[['ENGINESIZE','CYLINDERS','FUELCONSUMPTION_CITY','FUELCONSUMPTION_HWY']])\n",
        "y = np.asanyarray(test[['CO2EMISSIONS']])\n",
        "print(\"Residual sum of squares: %.2f\"% np.mean((y_ - y) ** 2))\n",
        "print('Variance score: %.2f' % regm.score(x, y))\n"
      ]
    },
    {
      "cell_type": "code",
      "execution_count": null,
      "id": "1375523e",
      "metadata": {
        "id": "1375523e",
        "outputId": "ac86dadb-1377-4402-8e5d-dc5c1276bef3"
      },
      "outputs": [
        {
          "data": {
            "text/plain": [
              "array([[222.18851359]])"
            ]
          },
          "execution_count": 65,
          "metadata": {},
          "output_type": "execute_result"
        }
      ],
      "source": [
        "regm.predict([[2.758,4.2,11.11,8.65]])"
      ]
    },
    {
      "cell_type": "markdown",
      "id": "d8ecba8d",
      "metadata": {
        "id": "d8ecba8d"
      },
      "source": [
        "# POLYNOMIAL REGRESSION (cubic)"
      ]
    },
    {
      "cell_type": "code",
      "execution_count": null,
      "id": "16e1a59f",
      "metadata": {
        "id": "16e1a59f",
        "outputId": "c297e09b-8731-40ec-e1d8-bb6efc5faaf4"
      },
      "outputs": [
        {
          "data": {
            "text/plain": [
              "array([[ 1.   ,  2.   ,  4.   ,  8.   ],\n",
              "       [ 1.   ,  2.4  ,  5.76 , 13.824],\n",
              "       [ 1.   ,  3.5  , 12.25 , 42.875],\n",
              "       ...,\n",
              "       [ 1.   ,  3.   ,  9.   , 27.   ],\n",
              "       [ 1.   ,  3.2  , 10.24 , 32.768],\n",
              "       [ 1.   ,  3.2  , 10.24 , 32.768]])"
            ]
          },
          "execution_count": 20,
          "metadata": {},
          "output_type": "execute_result"
        }
      ],
      "source": [
        "from sklearn.preprocessing import PolynomialFeatures\n",
        "from sklearn import linear_model\n",
        "train_x=np.asanyarray(train[['ENGINESIZE']])\n",
        "\n",
        "train_y = np.asanyarray(train[['CO2EMISSIONS']])\n",
        "\n",
        "test_x = np.asanyarray(test[['ENGINESIZE']])\n",
        "test_y = np.asanyarray(test[['CO2EMISSIONS']])\n",
        "poly=PolynomialFeatures(degree=3)\n",
        "train_x_poly=poly.fit_transform(train_x)\n",
        "\n",
        "train_x_poly"
      ]
    },
    {
      "cell_type": "code",
      "execution_count": null,
      "id": "69705b15",
      "metadata": {
        "id": "69705b15",
        "outputId": "2f8df1b5-a3c6-48cf-d2c1-e0a53e7d8164"
      },
      "outputs": [
        {
          "name": "stdout",
          "output_type": "stream",
          "text": [
            "Coefficients:  [[ 0.         32.41803243  3.37169696 -0.40986915]]\n",
            "Intercept:  [127.81279902]\n"
          ]
        }
      ],
      "source": [
        "regp=linear_model.LinearRegression()\n",
        "train_y_=regp.fit(train_x_poly,train_y)\n",
        "print ('Coefficients: ', regp.coef_)\n",
        "print ('Intercept: ',regp.intercept_)"
      ]
    },
    {
      "cell_type": "code",
      "execution_count": null,
      "id": "57a999bd",
      "metadata": {
        "id": "57a999bd",
        "outputId": "fa978832-6970-479f-cf92-a8fd49149b0a"
      },
      "outputs": [
        {
          "data": {
            "text/plain": [
              "Text(0, 0.5, 'CO2EMISSIONS')"
            ]
          },
          "execution_count": 25,
          "metadata": {},
          "output_type": "execute_result"
        },
        {
          "data": {
            "image/png": "[encoded data removed]",
            "text/plain": [
              "<Figure size 432x288 with 1 Axes>"
            ]
          },
          "metadata": {
            "needs_background": "light"
          },
          "output_type": "display_data"
        }
      ],
      "source": [
        "plt.scatter(train.ENGINESIZE,train.CO2EMISSIONS,color=\"violet\")\n",
        "X=np.arange(0,10.0,0.1)\n",
        "Y=regp.intercept_[0]+regp.coef_[0][1]*X+regp.coef_[0][2]*np.power(X,2)+regp.coef_[0][3]*np.power(X,3)\n",
        "plt.plot(X,Y,color=\"BLACK\")\n",
        "plt.xlabel('ENGINESIZE')\n",
        "plt.ylabel('CO2EMISSIONS')"
      ]
    },
    {
      "cell_type": "code",
      "execution_count": null,
      "id": "94feb81a",
      "metadata": {
        "id": "94feb81a",
        "outputId": "ca1bfef3-8a89-43e6-a4f9-ccc57abeafdd"
      },
      "outputs": [
        {
          "name": "stdout",
          "output_type": "stream",
          "text": [
            "Mean absolute error: 22.99\n",
            "Residual sum of squares (MSE): 928.22\n",
            "R2-score: 0.79\n"
          ]
        }
      ],
      "source": [
        "\n",
        "from sklearn.metrics import r2_score\n",
        "test_x_poly=poly.fit_transform(test_x)\n",
        "test_y_=regp.predict(test_x_poly)\n",
        "print(\"Mean absolute error: %.2f\" % np.mean(np.absolute(test_y_ - test_y)))\n",
        "print(\"Residual sum of squares (MSE): %.2f\" % np.mean((test_y_ - test_y) ** 2))\n",
        "print(\"R2-score: %.2f\" % r2_score(test_y,test_y_ ) )"
      ]
    },
    {
      "cell_type": "markdown",
      "id": "78eb331e",
      "metadata": {
        "id": "78eb331e"
      },
      "source": [
        "# POLYNOMIAL REGRESSION (quadratic)"
      ]
    },
    {
      "cell_type": "code",
      "execution_count": null,
      "id": "875c4928",
      "metadata": {
        "id": "875c4928",
        "outputId": "b6973db5-811a-4409-b090-803b622fbf6e"
      },
      "outputs": [
        {
          "data": {
            "text/plain": [
              "array([[ 1.  ,  2.  ,  4.  ],\n",
              "       [ 1.  ,  2.4 ,  5.76],\n",
              "       [ 1.  ,  3.5 , 12.25],\n",
              "       ...,\n",
              "       [ 1.  ,  3.  ,  9.  ],\n",
              "       [ 1.  ,  3.2 , 10.24],\n",
              "       [ 1.  ,  3.2 , 10.24]])"
            ]
          },
          "execution_count": 27,
          "metadata": {},
          "output_type": "execute_result"
        }
      ],
      "source": [
        "train_x = np.asanyarray(train[['ENGINESIZE']])\n",
        "train_y = np.asanyarray(train[['CO2EMISSIONS']])\n",
        "\n",
        "test_x = np.asanyarray(test[['ENGINESIZE']])\n",
        "test_y = np.asanyarray(test[['CO2EMISSIONS']])\n",
        "\n",
        "\n",
        "poly = PolynomialFeatures(degree=2)\n",
        "train_x_poly = poly.fit_transform(train_x)\n",
        "train_x_poly"
      ]
    },
    {
      "cell_type": "code",
      "execution_count": null,
      "id": "f6e777e0",
      "metadata": {
        "id": "f6e777e0",
        "outputId": "6536234b-b960-4b89-c9e8-c2d8bcd8c344"
      },
      "outputs": [
        {
          "name": "stdout",
          "output_type": "stream",
          "text": [
            "Coefficients:  [[ 0.         49.67857101 -1.47264337]]\n",
            "Intercept:  [109.78322818]\n"
          ]
        }
      ],
      "source": [
        "clf = linear_model.LinearRegression()\n",
        "train_y_ = clf.fit(train_x_poly, train_y)\n",
        "\n",
        "print ('Coefficients: ', clf.coef_)\n",
        "print ('Intercept: ',clf.intercept_)"
      ]
    },
    {
      "cell_type": "code",
      "execution_count": null,
      "id": "b5e1a23a",
      "metadata": {
        "id": "b5e1a23a",
        "outputId": "632ab314-df54-4cf7-a966-29eb532fd331"
      },
      "outputs": [
        {
          "data": {
            "text/plain": [
              "Text(0, 0.5, 'Emission')"
            ]
          },
          "execution_count": 29,
          "metadata": {},
          "output_type": "execute_result"
        },
        {
          "data": {
            "image/png": "[encoded data removed]",
            "text/plain": [
              "<Figure size 432x288 with 1 Axes>"
            ]
          },
          "metadata": {
            "needs_background": "light"
          },
          "output_type": "display_data"
        }
      ],
      "source": [
        "plt.scatter(train.ENGINESIZE, train.CO2EMISSIONS,  color='blue')\n",
        "XX = np.arange(0.0, 10.0, 0.1)\n",
        "yy = clf.intercept_[0]+ clf.coef_[0][1]*XX+ clf.coef_[0][2]*np.power(XX, 2)\n",
        "plt.plot(XX, yy, '-r' )\n",
        "plt.xlabel(\"Engine size\")\n",
        "plt.ylabel(\"Emission\")"
      ]
    },
    {
      "cell_type": "code",
      "execution_count": null,
      "id": "c9e11375",
      "metadata": {
        "id": "c9e11375",
        "outputId": "2d736799-a4fe-4058-8f59-c32785b88238"
      },
      "outputs": [
        {
          "name": "stdout",
          "output_type": "stream",
          "text": [
            "Mean absolute error: 23.18\n",
            "Residual sum of squares (MSE): 936.83\n",
            "R2-score: 0.79\n"
          ]
        }
      ],
      "source": [
        "from sklearn.metrics import r2_score\n",
        "\n",
        "test_x_poly = poly.fit_transform(test_x)\n",
        "test_y_ = clf.predict(test_x_poly)\n",
        "\n",
        "print(\"Mean absolute error: %.2f\" % np.mean(np.absolute(test_y_ - test_y)))\n",
        "print(\"Residual sum of squares (MSE): %.2f\" % np.mean((test_y_ - test_y) ** 2))\n",
        "print(\"R2-score: %.2f\" % r2_score(test_y,test_y_ ) )"
      ]
    }
  ],
  "metadata": {
    "kernelspec": {
      "display_name": "Python 3",
      "language": "python",
      "name": "python3"
    },
    "language_info": {
      "codemirror_mode": {
        "name": "ipython",
        "version": 3
      },
      "file_extension": ".py",
      "mimetype": "text/x-python",
      "name": "python",
      "nbconvert_exporter": "python",
      "pygments_lexer": "ipython3",
      "version": "3.9.5"
    },
    "colab": {
      "provenance": [],
      "collapsed_sections": [
        "8575d637",
        "7865f6e0",
        "d8ecba8d",
        "78eb331e"
      ],
      "include_colab_link": true
    }
  },
  "nbformat": 4,
  "nbformat_minor": 5
}